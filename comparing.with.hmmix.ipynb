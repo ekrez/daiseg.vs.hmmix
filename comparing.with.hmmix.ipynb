{
 "cells": [
  {
   "cell_type": "code",
   "execution_count": null,
   "id": "fdf9ccfd-e03c-4bc5-8e60-1ac63d97104f",
   "metadata": {},
   "outputs": [],
   "source": [
    "import sims\n",
    "import numpy as np\n",
    "import msprime\n",
    "import pandas as pd\n",
    "\n",
    "import useful\n",
    "import seaborn\n",
    "import matplotlib\n",
    "from matplotlib import pyplot as plt\n",
    "from importlib import reload\n",
    "\n",
    "\n",
    "import json"
   ]
  },
  {
   "cell_type": "code",
   "execution_count": null,
   "id": "5222edba-8556-40ed-b457-5b9721bd67a1",
   "metadata": {},
   "outputs": [],
   "source": [
    "# Generation time, mutation rate and recomination rate\n",
    "RR = 1e-8\n",
    "MU = 1.29e-8 \n",
    "GEN_time = 29.0 \n",
    "\n",
    "# Split Times\n",
    "T_NEAND_migration = 55000 #time of Neanderthal migration into Out_of_africa population\n",
    "T_NEAND_AMH = 550000 # split time between AMH and Neanderthal\n",
    "T_OOF_AF = 65700 # Out_of_Africa migration time\n",
    "T_NEAND_samples = 38000\n",
    "\n",
    "# Effective population size\n",
    "N_ANC = 18500 # N_e of common  AMH and NEanderthal population \n",
    "N_ND = 3400 # N_e of Neanderthal\n",
    "N_AMH = 23000 # N_e of AMH\n",
    "N_OOF = 1861 # N_e of Out_of_Africa population\n",
    "N_AF = 27600 # N_e of Africans\n",
    "N_EU = 13377 #N_e of Europeans\n",
    "\n",
    "N_EU_bottleneck = 1080\n",
    "N_EU_growth = 1450\n",
    "T_EU_growth = 31900\n",
    "gr_rate = 0.00202\n",
    "Portion_admix = 0.03\n",
    "\n",
    "len_sequence = 1e7 # DNA sequence length\n",
    "\n",
    "n = 250 # number of generated   AF samples\n",
    "n_neand = 10 #number of generated Neanderthals\n",
    "\n",
    "rand_sd =1234 #random seed\n",
    "T = np.array([T_NEAND_migration, T_NEAND_AMH, T_OOF_AF])/GEN_time\n",
    "\n",
    "\n",
    "N_ND = 3400 # N_e of Neanderthal\n",
    "N_e = np.array([N_ANC, N_ND, N_AMH, N_OOF, N_AF, N_EU])\n",
    "\n",
    "n_eu=1\n",
    "ploidy=2\n",
    "L=1000\n",
    "N_ref_pop=250\n",
    "N_neanderthal=6"
   ]
  },
  {
   "cell_type": "code",
   "execution_count": null,
   "id": "8bc18a55-2fe9-4153-89ca-bca92ab99a58",
   "metadata": {},
   "outputs": [],
   "source": [
    "number_chr=2\n",
    "ts_mas, ND_true_tracts_mas = sims.sim_history_archaic_many_ts(GEN_time, len_sequence, RR, MU, N_e, T,  n, rand_sd, n_neand,  \n",
    "                              T_NEAND_samples/GEN_time, n_eu, N_EU_growth, \n",
    "                              T_EU_growth/GEN_time, N_EU_bottleneck, gr_rate, Portion_admix, ploidy, number_chr)"
   ]
  },
  {
   "cell_type": "code",
   "execution_count": null,
   "id": "4bbbc54f-b0db-4f12-8620-80a7b15ba9d2",
   "metadata": {},
   "outputs": [],
   "source": [
    "#functions that move the j-th set of tracts by j*len_sequence\n",
    "def many_in_one(nd_tracts_mas, number_chr):\n",
    "    nd2=[]\n",
    "    for _ in range(len(ts_mas)):\n",
    "        for j in range(len(nd_tracts_mas[_])):\n",
    "            nd2.append([nd_tracts_mas[_][j][0]+_*len_sequence, nd_tracts_mas[_][j][1]+_*len_sequence])\n",
    "\n",
    "    return [useful.tracts_eu(nd2, len_sequence*len(ts_mas) ), nd2]"
   ]
  },
  {
   "cell_type": "code",
   "execution_count": null,
   "id": "c654bbac-5f22-4252-9a10-d0f9346b485f",
   "metadata": {},
   "outputs": [],
   "source": [
    "true_nd=[ND_true_tracts_mas[_][0] for _ in range(len(ts_mas))]  \n",
    "real_tracts_in_states = many_in_one(true_nd,number_chr)"
   ]
  },
  {
   "cell_type": "markdown",
   "id": "dd7be8c2-0abc-43b8-a721-2059d334be49",
   "metadata": {},
   "source": [
    "# DAIseg preparations"
   ]
  },
  {
   "cell_type": "code",
   "execution_count": null,
   "id": "2e999340-02a9-43bc-952a-2e1d0ee4e71d",
   "metadata": {},
   "outputs": [],
   "source": [
    "for _ in range(len(ts_mas)):\n",
    "    sims.create_obs_txt('obs.chr'+str(_+1)+'.txt', ploidy,  n_eu, ts_mas[_], N_ref_pop, N_neanderthal, n)\n",
    "sims.create_bed_smpls_arch_cov('samples.txt', 'test.bed','arch.cover.txt', len_sequence, 0.9999, 1, n_eu, ploidy)"
   ]
  },
  {
   "cell_type": "code",
   "execution_count": null,
   "id": "cba70fa8-b78f-42cd-8032-ef828a967022",
   "metadata": {},
   "outputs": [],
   "source": [
    "! ./run.daiseg.long.sh"
   ]
  },
  {
   "cell_type": "code",
   "execution_count": null,
   "id": "c9c067dc-e4f8-4bad-b874-e3cae1efb625",
   "metadata": {},
   "outputs": [],
   "source": [
    "daiseg=[]\n",
    "for _ in range(number_chr):\n",
    "    daiseg.append(useful.read_out('out.chr'+str(_+1)+'.archaic.txt')[0])\n",
    "\n",
    "\n",
    "tracts_daiseg=many_in_one(daiseg, number_chr)\n",
    "df_daiseg=sims.df_result_lonf_chr(real_tracts_in_states, tracts_daiseg, 6,  250, 2)"
   ]
  },
  {
   "cell_type": "code",
   "execution_count": null,
   "id": "927f00bf-5880-48b4-9213-aa8fc911fe3e",
   "metadata": {},
   "outputs": [],
   "source": []
  },
  {
   "cell_type": "markdown",
   "id": "c311296f-84d8-404a-bda0-da2aedcdacc5",
   "metadata": {},
   "source": [
    "# HMMIX preparations"
   ]
  },
  {
   "cell_type": "code",
   "execution_count": null,
   "id": "c5b4fb2c-c1e9-4070-9f6f-f04c4f07178d",
   "metadata": {},
   "outputs": [],
   "source": [
    "#preparation_to_hmmix (ancestral alleles, fasta, vcf)\n",
    "\n",
    "j_son={\"ingroup\":['tsk_'+str(_) for _ in range(0, n_eu)], \"outgroup\" : ['tsk_'+str(_) for _ in range(n_eu, n_eu+N_ref_pop)]}\n",
    "with open('./hmmix/individuals.json', 'w') as f:\n",
    "    json.dump(j_son, f)\n",
    "\n",
    "for _ in range(len(ts_mas)):\n",
    "    with open('./hmmix/ts.'+'chr'+str(_+1)+'.vcf', \"w\") as vcf_file:\n",
    "        ts_mas[_].write_vcf(vcf_file, contig_id=str(_+1))\n",
    "\n",
    "sims.make_ancestral_fasta('./hmmix/ancestral', ts_mas, len_sequence)"
   ]
  },
  {
   "cell_type": "code",
   "execution_count": null,
   "id": "443593f0-17c3-47f4-8722-55e52064ce45",
   "metadata": {},
   "outputs": [],
   "source": [
    "#then run ./hmmix.sh from hmmix directory"
   ]
  },
  {
   "cell_type": "code",
   "execution_count": null,
   "id": "ee769bfb-d18d-4477-aafc-68e24c552152",
   "metadata": {},
   "outputs": [],
   "source": [
    "file='./hmmix/out.tsk_0.hap1.txt'\n",
    "hmmix_nd=sims.read_noND(file, 0.9,2)\n",
    "#The goal of this cell in to make ONE big chr\n",
    "tracts_hmmix=many_in_one(hmmix_nd, number_chr)\n",
    "df_hmmix = sims.df_result_lonf_chr(real_tracts_in_states, tracts_hmmix, 6,  250, 2)        "
   ]
  },
  {
   "cell_type": "code",
   "execution_count": null,
   "id": "a31a3c20-26f1-424e-9770-81722b70097b",
   "metadata": {},
   "outputs": [],
   "source": []
  }
 ],
 "metadata": {
  "kernelspec": {
   "display_name": "Python 3 (ipykernel)",
   "language": "python",
   "name": "python3"
  },
  "language_info": {
   "codemirror_mode": {
    "name": "ipython",
    "version": 3
   },
   "file_extension": ".py",
   "mimetype": "text/x-python",
   "name": "python",
   "nbconvert_exporter": "python",
   "pygments_lexer": "ipython3",
   "version": "3.8.10"
  }
 },
 "nbformat": 4,
 "nbformat_minor": 5
}
